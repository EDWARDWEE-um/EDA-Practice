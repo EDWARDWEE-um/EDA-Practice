{
 "cells": [
  {
   "cell_type": "code",
   "execution_count": 1,
   "id": "expensive-muslim",
   "metadata": {},
   "outputs": [],
   "source": [
    "import numpy as np\n",
    "import pandas as pd\n",
    "import matplotlib.pyplot as plt\n",
    "import seaborn as sns #for plotting\n",
    "np.random.seed(123) #ensure reproducibility"
   ]
  },
  {
   "cell_type": "code",
   "execution_count": 2,
   "id": "concerned-republic",
   "metadata": {},
   "outputs": [],
   "source": [
    "tickets = pd.read_json('contacts.json')"
   ]
  },
  {
   "cell_type": "code",
   "execution_count": 3,
   "id": "czech-somewhere",
   "metadata": {},
   "outputs": [
    {
     "data": {
      "text/html": [
       "<div>\n",
       "<style scoped>\n",
       "    .dataframe tbody tr th:only-of-type {\n",
       "        vertical-align: middle;\n",
       "    }\n",
       "\n",
       "    .dataframe tbody tr th {\n",
       "        vertical-align: top;\n",
       "    }\n",
       "\n",
       "    .dataframe thead th {\n",
       "        text-align: right;\n",
       "    }\n",
       "</style>\n",
       "<table border=\"1\" class=\"dataframe\">\n",
       "  <thead>\n",
       "    <tr style=\"text-align: right;\">\n",
       "      <th></th>\n",
       "      <th>Id</th>\n",
       "      <th>Email</th>\n",
       "      <th>Phone</th>\n",
       "      <th>Contacts</th>\n",
       "      <th>OrderId</th>\n",
       "    </tr>\n",
       "  </thead>\n",
       "  <tbody>\n",
       "    <tr>\n",
       "      <th>0</th>\n",
       "      <td>0</td>\n",
       "      <td>gkzAbIy@qq.com</td>\n",
       "      <td></td>\n",
       "      <td>1</td>\n",
       "      <td></td>\n",
       "    </tr>\n",
       "    <tr>\n",
       "      <th>1</th>\n",
       "      <td>1</td>\n",
       "      <td></td>\n",
       "      <td>329442681752</td>\n",
       "      <td>4</td>\n",
       "      <td>vDDJJcxfLtSfkooPhbYnJdxov</td>\n",
       "    </tr>\n",
       "    <tr>\n",
       "      <th>2</th>\n",
       "      <td>2</td>\n",
       "      <td></td>\n",
       "      <td>9125983679</td>\n",
       "      <td>0</td>\n",
       "      <td></td>\n",
       "    </tr>\n",
       "    <tr>\n",
       "      <th>3</th>\n",
       "      <td>3</td>\n",
       "      <td>mdllpYmE@gmail.com</td>\n",
       "      <td></td>\n",
       "      <td>0</td>\n",
       "      <td>bHquEnCbbsGLqllwryxPsNOxa</td>\n",
       "    </tr>\n",
       "    <tr>\n",
       "      <th>4</th>\n",
       "      <td>4</td>\n",
       "      <td></td>\n",
       "      <td>300364407</td>\n",
       "      <td>2</td>\n",
       "      <td></td>\n",
       "    </tr>\n",
       "    <tr>\n",
       "      <th>5</th>\n",
       "      <td>5</td>\n",
       "      <td></td>\n",
       "      <td>840113148</td>\n",
       "      <td>0</td>\n",
       "      <td></td>\n",
       "    </tr>\n",
       "    <tr>\n",
       "      <th>6</th>\n",
       "      <td>6</td>\n",
       "      <td>hESiBgYTxMnj@hotmail.com</td>\n",
       "      <td></td>\n",
       "      <td>4</td>\n",
       "      <td></td>\n",
       "    </tr>\n",
       "    <tr>\n",
       "      <th>7</th>\n",
       "      <td>7</td>\n",
       "      <td>hqyunTiaXfIjhO@yahoo.com</td>\n",
       "      <td></td>\n",
       "      <td>1</td>\n",
       "      <td>vxjYZtMUvNhtEBDruzQfjpsmX</td>\n",
       "    </tr>\n",
       "    <tr>\n",
       "      <th>8</th>\n",
       "      <td>8</td>\n",
       "      <td>XGUjcSiDpFKWEUCs@qq.com</td>\n",
       "      <td>223604620644</td>\n",
       "      <td>2</td>\n",
       "      <td></td>\n",
       "    </tr>\n",
       "    <tr>\n",
       "      <th>9</th>\n",
       "      <td>9</td>\n",
       "      <td>osIIQgAiZX@hotmail.com</td>\n",
       "      <td></td>\n",
       "      <td>0</td>\n",
       "      <td>IqewrMXVTJqSsVklWFfOpdRNI</td>\n",
       "    </tr>\n",
       "  </tbody>\n",
       "</table>\n",
       "</div>"
      ],
      "text/plain": [
       "   Id                     Email         Phone  Contacts  \\\n",
       "0   0            gkzAbIy@qq.com                       1   \n",
       "1   1                            329442681752         4   \n",
       "2   2                              9125983679         0   \n",
       "3   3        mdllpYmE@gmail.com                       0   \n",
       "4   4                               300364407         2   \n",
       "5   5                               840113148         0   \n",
       "6   6  hESiBgYTxMnj@hotmail.com                       4   \n",
       "7   7  hqyunTiaXfIjhO@yahoo.com                       1   \n",
       "8   8   XGUjcSiDpFKWEUCs@qq.com  223604620644         2   \n",
       "9   9    osIIQgAiZX@hotmail.com                       0   \n",
       "\n",
       "                     OrderId  \n",
       "0                             \n",
       "1  vDDJJcxfLtSfkooPhbYnJdxov  \n",
       "2                             \n",
       "3  bHquEnCbbsGLqllwryxPsNOxa  \n",
       "4                             \n",
       "5                             \n",
       "6                             \n",
       "7  vxjYZtMUvNhtEBDruzQfjpsmX  \n",
       "8                             \n",
       "9  IqewrMXVTJqSsVklWFfOpdRNI  "
      ]
     },
     "execution_count": 3,
     "metadata": {},
     "output_type": "execute_result"
    }
   ],
   "source": [
    "tickets.head(10)"
   ]
  },
  {
   "cell_type": "code",
   "execution_count": 4,
   "id": "brief-russell",
   "metadata": {
    "scrolled": true
   },
   "outputs": [
    {
     "data": {
      "text/plain": [
       "Id           int64\n",
       "Email       object\n",
       "Phone       object\n",
       "Contacts     int64\n",
       "OrderId     object\n",
       "dtype: object"
      ]
     },
     "execution_count": 4,
     "metadata": {},
     "output_type": "execute_result"
    }
   ],
   "source": [
    "tickets.dtypes"
   ]
  },
  {
   "cell_type": "code",
   "execution_count": null,
   "id": "emerging-commissioner",
   "metadata": {},
   "outputs": [],
   "source": [
    "ticket_trace = \"\"\n",
    "\n",
    "for index, row in tickets.iterrows():\n",
    "    if row['OrderId'] == 'vDDJJcxfLtSfkooPhbYnJdxov':\n",
    "        if ticket_trace==\"\":\n",
    "            ticket_trace += str(index)\n",
    "        else:\n",
    "            ticket_trace +=\"-\"+str(index)\n",
    "            "
   ]
  },
  {
   "cell_type": "code",
   "execution_count": null,
   "id": "purple-demographic",
   "metadata": {},
   "outputs": [],
   "source": [
    "print(ticket_trace)"
   ]
  },
  {
   "cell_type": "code",
   "execution_count": null,
   "id": "healthy-rating",
   "metadata": {},
   "outputs": [],
   "source": []
  }
 ],
 "metadata": {
  "kernelspec": {
   "display_name": "Python 3",
   "language": "python",
   "name": "python3"
  },
  "language_info": {
   "codemirror_mode": {
    "name": "ipython",
    "version": 3
   },
   "file_extension": ".py",
   "mimetype": "text/x-python",
   "name": "python",
   "nbconvert_exporter": "python",
   "pygments_lexer": "ipython3",
   "version": "3.8.1"
  }
 },
 "nbformat": 4,
 "nbformat_minor": 5
}
